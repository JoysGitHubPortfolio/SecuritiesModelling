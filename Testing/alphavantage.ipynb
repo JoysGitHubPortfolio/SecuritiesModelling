{
 "cells": [
  {
   "cell_type": "code",
   "execution_count": 2,
   "metadata": {},
   "outputs": [],
   "source": [
    "import requests\n",
    "import os\n",
    "import pandas as pd"
   ]
  },
  {
   "cell_type": "code",
   "execution_count": 3,
   "metadata": {},
   "outputs": [
    {
     "data": {
      "text/plain": [
       "'https://www.alphavantage.co/query?function=TIME_SERIES_MONTHLY&symbol=AZN.L&apikey=None'"
      ]
     },
     "execution_count": 3,
     "metadata": {},
     "output_type": "execute_result"
    }
   ],
   "source": [
    "base = 'https://www.alphavantage.co/query?'\n",
    "key = os.getenv('ALPHA_KEY')\n",
    "function = 'TIME_SERIES_MONTHLY'\n",
    "symbol = 'AZN.L'\n",
    "\n",
    "url = f\"{base}function={function}&symbol={symbol}&apikey={key}\"\n",
    "url"
   ]
  },
  {
   "cell_type": "code",
   "execution_count": 4,
   "metadata": {},
   "outputs": [
    {
     "data": {
      "text/html": [
       "<div>\n",
       "<style scoped>\n",
       "    .dataframe tbody tr th:only-of-type {\n",
       "        vertical-align: middle;\n",
       "    }\n",
       "\n",
       "    .dataframe tbody tr th {\n",
       "        vertical-align: top;\n",
       "    }\n",
       "\n",
       "    .dataframe thead th {\n",
       "        text-align: right;\n",
       "    }\n",
       "</style>\n",
       "<table border=\"1\" class=\"dataframe\">\n",
       "  <thead>\n",
       "    <tr style=\"text-align: right;\">\n",
       "      <th></th>\n",
       "      <th>Meta Data</th>\n",
       "      <th>Monthly Time Series</th>\n",
       "    </tr>\n",
       "  </thead>\n",
       "  <tbody>\n",
       "    <tr>\n",
       "      <th>1. Information</th>\n",
       "      <td>Monthly Prices (open, high, low, close) and Vo...</td>\n",
       "      <td>NaN</td>\n",
       "    </tr>\n",
       "    <tr>\n",
       "      <th>2. Symbol</th>\n",
       "      <td>AZN.L</td>\n",
       "      <td>NaN</td>\n",
       "    </tr>\n",
       "    <tr>\n",
       "      <th>3. Last Refreshed</th>\n",
       "      <td>2024-08-09</td>\n",
       "      <td>NaN</td>\n",
       "    </tr>\n",
       "    <tr>\n",
       "      <th>4. Time Zone</th>\n",
       "      <td>US/Eastern</td>\n",
       "      <td>NaN</td>\n",
       "    </tr>\n",
       "    <tr>\n",
       "      <th>2024-08-09</th>\n",
       "      <td>NaN</td>\n",
       "      <td>{'1. open': '12344.0000', '2. high': '12792.00...</td>\n",
       "    </tr>\n",
       "    <tr>\n",
       "      <th>...</th>\n",
       "      <td>...</td>\n",
       "      <td>...</td>\n",
       "    </tr>\n",
       "    <tr>\n",
       "      <th>2005-06-30</th>\n",
       "      <td>NaN</td>\n",
       "      <td>{'1. open': '2343.0000', '2. high': '2360.0000...</td>\n",
       "    </tr>\n",
       "    <tr>\n",
       "      <th>2005-05-31</th>\n",
       "      <td>NaN</td>\n",
       "      <td>{'1. open': '2311.0000', '2. high': '2379.0000...</td>\n",
       "    </tr>\n",
       "    <tr>\n",
       "      <th>2005-04-29</th>\n",
       "      <td>NaN</td>\n",
       "      <td>{'1. open': '2099.0000', '2. high': '2365.0000...</td>\n",
       "    </tr>\n",
       "    <tr>\n",
       "      <th>2005-03-31</th>\n",
       "      <td>NaN</td>\n",
       "      <td>{'1. open': '2040.0000', '2. high': '2218.0000...</td>\n",
       "    </tr>\n",
       "    <tr>\n",
       "      <th>2005-02-28</th>\n",
       "      <td>NaN</td>\n",
       "      <td>{'1. open': '1998.0000', '2. high': '2183.0000...</td>\n",
       "    </tr>\n",
       "  </tbody>\n",
       "</table>\n",
       "<p>239 rows × 2 columns</p>\n",
       "</div>"
      ],
      "text/plain": [
       "                                                           Meta Data  \\\n",
       "1. Information     Monthly Prices (open, high, low, close) and Vo...   \n",
       "2. Symbol                                                      AZN.L   \n",
       "3. Last Refreshed                                         2024-08-09   \n",
       "4. Time Zone                                              US/Eastern   \n",
       "2024-08-09                                                       NaN   \n",
       "...                                                              ...   \n",
       "2005-06-30                                                       NaN   \n",
       "2005-05-31                                                       NaN   \n",
       "2005-04-29                                                       NaN   \n",
       "2005-03-31                                                       NaN   \n",
       "2005-02-28                                                       NaN   \n",
       "\n",
       "                                                 Monthly Time Series  \n",
       "1. Information                                                   NaN  \n",
       "2. Symbol                                                        NaN  \n",
       "3. Last Refreshed                                                NaN  \n",
       "4. Time Zone                                                     NaN  \n",
       "2024-08-09         {'1. open': '12344.0000', '2. high': '12792.00...  \n",
       "...                                                              ...  \n",
       "2005-06-30         {'1. open': '2343.0000', '2. high': '2360.0000...  \n",
       "2005-05-31         {'1. open': '2311.0000', '2. high': '2379.0000...  \n",
       "2005-04-29         {'1. open': '2099.0000', '2. high': '2365.0000...  \n",
       "2005-03-31         {'1. open': '2040.0000', '2. high': '2218.0000...  \n",
       "2005-02-28         {'1. open': '1998.0000', '2. high': '2183.0000...  \n",
       "\n",
       "[239 rows x 2 columns]"
      ]
     },
     "execution_count": 4,
     "metadata": {},
     "output_type": "execute_result"
    }
   ],
   "source": [
    "r = requests.get(url)\n",
    "data = r.json()\n",
    "\n",
    "\n",
    "# Data is returned in dictionary object which is not easily accessible\n",
    "df = pd.DataFrame(data)\n",
    "df"
   ]
  }
 ],
 "metadata": {
  "kernelspec": {
   "display_name": ".venv",
   "language": "python",
   "name": "python3"
  },
  "language_info": {
   "codemirror_mode": {
    "name": "ipython",
    "version": 3
   },
   "file_extension": ".py",
   "mimetype": "text/x-python",
   "name": "python",
   "nbconvert_exporter": "python",
   "pygments_lexer": "ipython3",
   "version": "3.12.2"
  }
 },
 "nbformat": 4,
 "nbformat_minor": 2
}
